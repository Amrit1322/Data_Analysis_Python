{
 "cells": [
  {
   "cell_type": "code",
   "execution_count": 247,
   "id": "401fb0da",
   "metadata": {},
   "outputs": [],
   "source": [
    "#Question we have to answer-\n",
    "#How do annual members and casual riders use Cyclistic bikes differently?\n"
   ]
  },
  {
   "cell_type": "code",
   "execution_count": 248,
   "id": "32aaad15",
   "metadata": {},
   "outputs": [],
   "source": [
    "import pandas as pd\n",
    "import numpy as np\n",
    "import matplotlib.pyplot as plt\n",
    "import seaborn as sns"
   ]
  },
  {
   "cell_type": "code",
   "execution_count": 249,
   "id": "c790a1bc",
   "metadata": {},
   "outputs": [],
   "source": [
    "#reading the .csv file for data from last month\n",
    "df = pd.read_csv('Jun2023_trip.csv')"
   ]
  },
  {
   "cell_type": "code",
   "execution_count": 281,
   "id": "fad849c1",
   "metadata": {},
   "outputs": [
    {
     "data": {
      "text/plain": [
       "ride_id              0\n",
       "rideable_type        0\n",
       "started_at           0\n",
       "ended_at             0\n",
       "end_lng            889\n",
       "member_casual        0\n",
       "Duration             0\n",
       "Weekday          84075\n",
       "dtype: int64"
      ]
     },
     "execution_count": 281,
     "metadata": {},
     "output_type": "execute_result"
    }
   ],
   "source": [
    "pd.isnull(df).sum()"
   ]
  },
  {
   "cell_type": "code",
   "execution_count": 273,
   "id": "6763acbc",
   "metadata": {},
   "outputs": [
    {
     "name": "stdout",
     "output_type": "stream",
     "text": [
      "<class 'pandas.core.frame.DataFrame'>\n",
      "Int64Index: 719618 entries, 0 to 719617\n",
      "Data columns (total 8 columns):\n",
      " #   Column         Non-Null Count   Dtype         \n",
      "---  ------         --------------   -----         \n",
      " 0   ride_id        719618 non-null  object        \n",
      " 1   rideable_type  719618 non-null  object        \n",
      " 2   started_at     719618 non-null  datetime64[ns]\n",
      " 3   ended_at       719618 non-null  datetime64[ns]\n",
      " 4   end_lng        718729 non-null  float64       \n",
      " 5   member_casual  719618 non-null  object        \n",
      " 6   Duration       719618 non-null  int32         \n",
      " 7   Weekday        635543 non-null  category      \n",
      "dtypes: category(1), datetime64[ns](2), float64(1), int32(1), object(3)\n",
      "memory usage: 41.9+ MB\n"
     ]
    }
   ],
   "source": [
    "df.info()"
   ]
  },
  {
   "cell_type": "code",
   "execution_count": 251,
   "id": "bbf1aeed",
   "metadata": {},
   "outputs": [],
   "source": [
    "#changing datatype for two columns to datetime\n",
    "df['ended_at'] = df['ended_at'].astype('datetime64')\n",
    "df['started_at'] = df['started_at'].astype('datetime64')"
   ]
  },
  {
   "cell_type": "code",
   "execution_count": 127,
   "id": "9ed5b1cd",
   "metadata": {},
   "outputs": [],
   "source": [
    "#adding column having name od day cycle was used\n",
    "df['Weekday'] = df['started_at'].dt.strftime('%A')"
   ]
  },
  {
   "cell_type": "code",
   "execution_count": 252,
   "id": "b2299a5f",
   "metadata": {},
   "outputs": [],
   "source": [
    "#adding new column having duration of time cycle was used \n",
    "df['Duration'] = df['ended_at'] - df['started_at']"
   ]
  },
  {
   "cell_type": "code",
   "execution_count": null,
   "id": "b6c652c1",
   "metadata": {},
   "outputs": [],
   "source": [
    "#dropped unwanted column\n",
    "df.drop(['start_station_id','start_station_name','end_station_name','end_station_id','start_lat','start_lng','end_lat','end_lat','end_lng'], axis=1 , inplace=True)"
   ]
  },
  {
   "cell_type": "code",
   "execution_count": 274,
   "id": "c5fadaa6",
   "metadata": {},
   "outputs": [
    {
     "data": {
      "text/html": [
       "<div>\n",
       "<style scoped>\n",
       "    .dataframe tbody tr th:only-of-type {\n",
       "        vertical-align: middle;\n",
       "    }\n",
       "\n",
       "    .dataframe tbody tr th {\n",
       "        vertical-align: top;\n",
       "    }\n",
       "\n",
       "    .dataframe thead th {\n",
       "        text-align: right;\n",
       "    }\n",
       "</style>\n",
       "<table border=\"1\" class=\"dataframe\">\n",
       "  <thead>\n",
       "    <tr style=\"text-align: right;\">\n",
       "      <th></th>\n",
       "      <th>ride_id</th>\n",
       "      <th>rideable_type</th>\n",
       "      <th>started_at</th>\n",
       "      <th>ended_at</th>\n",
       "      <th>end_lng</th>\n",
       "      <th>member_casual</th>\n",
       "      <th>Duration</th>\n",
       "      <th>Weekday</th>\n",
       "    </tr>\n",
       "  </thead>\n",
       "  <tbody>\n",
       "    <tr>\n",
       "      <th>0</th>\n",
       "      <td>6F1682AC40EB6F71</td>\n",
       "      <td>electric_bike</td>\n",
       "      <td>2023-06-05 13:34:12</td>\n",
       "      <td>2023-06-05 14:31:56</td>\n",
       "      <td>-87.70</td>\n",
       "      <td>member</td>\n",
       "      <td>3464</td>\n",
       "      <td>Monday</td>\n",
       "    </tr>\n",
       "    <tr>\n",
       "      <th>1</th>\n",
       "      <td>622A1686D64948EB</td>\n",
       "      <td>electric_bike</td>\n",
       "      <td>2023-06-05 01:30:22</td>\n",
       "      <td>2023-06-05 01:33:06</td>\n",
       "      <td>-87.65</td>\n",
       "      <td>member</td>\n",
       "      <td>164</td>\n",
       "      <td>Monday</td>\n",
       "    </tr>\n",
       "    <tr>\n",
       "      <th>2</th>\n",
       "      <td>3C88859D926253B4</td>\n",
       "      <td>electric_bike</td>\n",
       "      <td>2023-06-20 18:15:49</td>\n",
       "      <td>2023-06-20 18:32:05</td>\n",
       "      <td>-87.63</td>\n",
       "      <td>member</td>\n",
       "      <td>976</td>\n",
       "      <td>Tuesday</td>\n",
       "    </tr>\n",
       "    <tr>\n",
       "      <th>3</th>\n",
       "      <td>EAD8A5E0259DEC88</td>\n",
       "      <td>electric_bike</td>\n",
       "      <td>2023-06-19 14:56:00</td>\n",
       "      <td>2023-06-19 15:00:35</td>\n",
       "      <td>-87.66</td>\n",
       "      <td>member</td>\n",
       "      <td>275</td>\n",
       "      <td>Monday</td>\n",
       "    </tr>\n",
       "    <tr>\n",
       "      <th>4</th>\n",
       "      <td>5A36F21930D6A55C</td>\n",
       "      <td>electric_bike</td>\n",
       "      <td>2023-06-19 15:03:34</td>\n",
       "      <td>2023-06-19 15:07:16</td>\n",
       "      <td>-87.65</td>\n",
       "      <td>member</td>\n",
       "      <td>222</td>\n",
       "      <td>Monday</td>\n",
       "    </tr>\n",
       "  </tbody>\n",
       "</table>\n",
       "</div>"
      ],
      "text/plain": [
       "            ride_id  rideable_type          started_at            ended_at  \\\n",
       "0  6F1682AC40EB6F71  electric_bike 2023-06-05 13:34:12 2023-06-05 14:31:56   \n",
       "1  622A1686D64948EB  electric_bike 2023-06-05 01:30:22 2023-06-05 01:33:06   \n",
       "2  3C88859D926253B4  electric_bike 2023-06-20 18:15:49 2023-06-20 18:32:05   \n",
       "3  EAD8A5E0259DEC88  electric_bike 2023-06-19 14:56:00 2023-06-19 15:00:35   \n",
       "4  5A36F21930D6A55C  electric_bike 2023-06-19 15:03:34 2023-06-19 15:07:16   \n",
       "\n",
       "   end_lng member_casual  Duration  Weekday  \n",
       "0   -87.70        member      3464   Monday  \n",
       "1   -87.65        member       164   Monday  \n",
       "2   -87.63        member       976  Tuesday  \n",
       "3   -87.66        member       275   Monday  \n",
       "4   -87.65        member       222   Monday  "
      ]
     },
     "execution_count": 274,
     "metadata": {},
     "output_type": "execute_result"
    }
   ],
   "source": [
    "df.head()"
   ]
  },
  {
   "cell_type": "code",
   "execution_count": 257,
   "id": "7d83b606",
   "metadata": {},
   "outputs": [],
   "source": [
    "#Eliminating the duplictaes \n",
    "df.drop_duplicates(inplace =True)"
   ]
  },
  {
   "cell_type": "code",
   "execution_count": 258,
   "id": "ca427781",
   "metadata": {
    "scrolled": true
   },
   "outputs": [
    {
     "data": {
      "text/plain": [
       "0    Friday\n",
       "Name: Weekday, dtype: category\n",
       "Categories (6, object): ['Monday' < 'Tuesday' < 'Wednesday' < 'Thursday' < 'Friday' < 'Saturday']"
      ]
     },
     "execution_count": 258,
     "metadata": {},
     "output_type": "execute_result"
    }
   ],
   "source": [
    "#Most preferred day to use bike by all customers\n",
    "df['Weekday'].mode()"
   ]
  },
  {
   "cell_type": "code",
   "execution_count": 259,
   "id": "a118fdbc",
   "metadata": {},
   "outputs": [],
   "source": [
    "#Day preferred by member and casual \n",
    "Mode_for_member_casual = df.groupby('member_casual')['Weekday'].apply(lambda x: x.mode().iloc[0])"
   ]
  },
  {
   "cell_type": "code",
   "execution_count": 260,
   "id": "9b302b73",
   "metadata": {},
   "outputs": [],
   "source": [
    "#Calculating mean of duration  for both member and casual  \n",
    "Avg_mem_cas = df.groupby('member_casual')['Duration'].mean()"
   ]
  },
  {
   "cell_type": "code",
   "execution_count": 261,
   "id": "46996402",
   "metadata": {},
   "outputs": [],
   "source": [
    "#Counting total number of rider for last month \n",
    "Count_By_Users = df.groupby('member_casual')['ride_id'].count()"
   ]
  },
  {
   "cell_type": "code",
   "execution_count": 262,
   "id": "03e2919d",
   "metadata": {},
   "outputs": [],
   "source": [
    "#Counting number of customer used cycle by weekday\n",
    "Count_By_day = df.groupby('Weekday')['ride_id'].count()"
   ]
  },
  {
   "cell_type": "code",
   "execution_count": 263,
   "id": "0b0bc011",
   "metadata": {},
   "outputs": [],
   "source": [
    "#Mean of duration cycle used by customers for each day \n",
    "Avg_Duration =df.groupby('Weekday')['Duration'].mean()"
   ]
  },
  {
   "cell_type": "code",
   "execution_count": 264,
   "id": "75952ccb",
   "metadata": {},
   "outputs": [],
   "source": [
    "# Converting timedelta to total seconds for the \"Duration\" column\n",
    "df['Duration'] = df['Duration'].dt.total_seconds()"
   ]
  },
  {
   "cell_type": "code",
   "execution_count": 265,
   "id": "b4810767",
   "metadata": {},
   "outputs": [],
   "source": [
    "#Keeping the weekdays in order\n",
    "weekday_order = ['Monday', 'Tuesday', 'Wednesday', 'Thursday', 'Friday', 'Saturday']\n",
    "df['Weekday'] = pd.Categorical(df['Weekday'], categories=weekday_order, ordered=True)\n",
    "\n",
    "#Mean of duration cycle used by casual for each day and changind datatype to make graph\n",
    "Casual_Avg_duration_By_Days = df[df[\"member_casual\"] == \"casual\"].groupby('Weekday')['Duration'].mean()\n",
    "df['Duration'] = df['Duration'].astype(int)\n"
   ]
  },
  {
   "cell_type": "code",
   "execution_count": 275,
   "id": "975592ae",
   "metadata": {},
   "outputs": [],
   "source": [
    "#Mean of duration cycle used by Member only for each day \n",
    "Member_Avg_duration_By_Days = df[df[\"member_casual\"] == \"member\"].groupby('Weekday')['Duration'].mean()\n",
    "df['Duration'] = df['Duration'].astype(int)"
   ]
  },
  {
   "cell_type": "code",
   "execution_count": 276,
   "id": "8092bc4e",
   "metadata": {},
   "outputs": [
    {
     "data": {
      "text/plain": [
       "Index(['ride_id', 'rideable_type', 'started_at', 'ended_at', 'end_lng',\n",
       "       'member_casual', 'Duration', 'Weekday'],\n",
       "      dtype='object')"
      ]
     },
     "execution_count": 276,
     "metadata": {},
     "output_type": "execute_result"
    }
   ],
   "source": [
    "df.columns"
   ]
  },
  {
   "cell_type": "code",
   "execution_count": 277,
   "id": "63d07e39",
   "metadata": {},
   "outputs": [],
   "source": [
    "# Reseting the index to have 'Weekday' as a regular column for plotting\n",
    "Member_Avg_duration_By_Days = Member_Avg_duration_By_Days.reset_index()\n",
    "\n",
    "Casual_Avg_duration_By_Days = Casual_Avg_duration_By_Days.reset_index()"
   ]
  },
  {
   "cell_type": "code",
   "execution_count": 278,
   "id": "efd6c308",
   "metadata": {},
   "outputs": [
    {
     "data": {
      "image/png": "[encoded data removed]",
      "text/plain": [
       "<Figure size 432x288 with 1 Axes>"
      ]
     },
     "metadata": {},
     "output_type": "display_data"
    }
   ],
   "source": [
    "sns.set(style=\"whitegrid\")\n",
    "\n",
    "# Create the line plot using Seaborn\n",
    "sns.lineplot(x='Weekday', y='Duration', data=Member_Avg_duration_By_Days, marker='o', ci=None)\n",
    "\n",
    "# Setting the labels and title\n",
    "plt.xlabel('Weekday')\n",
    "plt.ylabel('Average Duration (seconds)')\n",
    "plt.title('Average Duration of ride for Member by Weekday')\n",
    "\n",
    "plt.show()\n"
   ]
  },
  {
   "cell_type": "code",
   "execution_count": 279,
   "id": "7849e27b",
   "metadata": {},
   "outputs": [
    {
     "data": {
      "image/png": "[encoded data removed]",
      "text/plain": [
       "<Figure size 432x288 with 1 Axes>"
      ]
     },
     "metadata": {},
     "output_type": "display_data"
    }
   ],
   "source": [
    "sns.set(style=\"whitegrid\")\n",
    "\n",
    "# Create the line plot using Seaborn\n",
    "sns.lineplot(x='Weekday', y='Duration', data=Casual_Avg_duration_By_Days , marker='o' ,ci=None , )\n",
    "\n",
    "# Setting the labels and title\n",
    "plt.xlabel('Weekday')\n",
    "plt.ylabel('Average Duration (seconds)')\n",
    "plt.title('Average Duration of ride for Casual by Weekday')\n",
    "\n",
    "\n",
    "plt.show()\n"
   ]
  },
  {
   "cell_type": "code",
   "execution_count": 280,
   "id": "997b1a98",
   "metadata": {},
   "outputs": [],
   "source": [
    "df.to_csv('Jun2023_trip.csv', index=False)"
   ]
  },
  {
   "cell_type": "code",
   "execution_count": 246,
   "id": "d9e73786",
   "metadata": {},
   "outputs": [
    {
     "data": {
      "text/plain": [
       "ride_id          301230\n",
       "rideable_type    301230\n",
       "started_at       301230\n",
       "ended_at         301230\n",
       "end_lng          300440\n",
       "member_casual    301230\n",
       "Duration         301230\n",
       "Weekday          301230\n",
       "dtype: int64"
      ]
     },
     "execution_count": 246,
     "metadata": {},
     "output_type": "execute_result"
    }
   ],
   "source": [
    "\n",
    "Member_Avg_duration_By_Days = df[df[\"member_casual\"] == \"casual\"].count()\n",
    "Member_Avg_duration_By_Days"
   ]
  },
  {
   "cell_type": "code",
   "execution_count": null,
   "id": "90bfdddd",
   "metadata": {},
   "outputs": [],
   "source": []
  }
 ],
 "metadata": {
  "kernelspec": {
   "display_name": "Python 3 (ipykernel)",
   "language": "python",
   "name": "python3"
  },
  "language_info": {
   "codemirror_mode": {
    "name": "ipython",
    "version": 3
   },
   "file_extension": ".py",
   "mimetype": "text/x-python",
   "name": "python",
   "nbconvert_exporter": "python",
   "pygments_lexer": "ipython3",
   "version": "3.9.7"
  }
 },
 "nbformat": 4,
 "nbformat_minor": 5
}
